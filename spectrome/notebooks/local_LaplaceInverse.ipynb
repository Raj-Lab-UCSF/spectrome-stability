{
 "cells": [
  {
   "cell_type": "markdown",
   "metadata": {},
   "source": [
    "# Simulating local model with and without noise by taking inverse Laplace transform"
   ]
  },
  {
   "cell_type": "markdown",
   "metadata": {},
   "source": [
    "### Import modules with respective paths"
   ]
  },
  {
   "cell_type": "code",
   "execution_count": null,
   "metadata": {},
   "outputs": [],
   "source": [
    "# this path append is for binder only\n",
    "import sys\n",
    "sys.path.append(\"../../\")\n",
    "\n",
    "#spectrome modules\n",
    "from spectrome.brain import Brain\n",
    "from spectrome.forward import ntf_local_inverselaplace\n",
    "\n",
    "#generic modules\n",
    "import matplotlib.pyplot as plt\n",
    "import numpy as np\n",
    "\n",
    "new_brain = Brain.Brain()\n",
    "\n",
    "print(new_brain.ntf_params)\n",
    "\n",
    "plt.rcParams.update({\n",
    "    \"mathtext.fontset\": \"stix\",\n",
    "    \"font.family\": \"STIXGeneral\",\n",
    "    \"xtick.labelsize\": 12,\n",
    "    \"ytick.labelsize\": 12\n",
    "})"
   ]
  },
  {
   "cell_type": "markdown",
   "metadata": {},
   "source": [
    "## Laplace inverse of local model"
   ]
  },
  {
   "cell_type": "code",
   "execution_count": null,
   "metadata": {},
   "outputs": [],
   "source": [
    "import time\n",
    "dt = 0.01\n",
    "Q = 1\n",
    "\n",
    "tt = np.arange(0.001,0.5,dt)\n",
    "tt2 = np.append(0,tt)\n",
    "\n",
    "excolor = \"#ca0020\"\n",
    "incolor = \"#0571b0\"\n",
    "\n",
    "# {'tau_e': 0.012, 'tau_i': 0.003, 'alpha': 1.0, 'speed': 5.0, 'gei': 4.0, 'gii': 1.0, 'tauC': 0.006}\n",
    "\n",
    "new_brain.ntf_params[\"tau_e\"] = 0.012\n",
    "new_brain.ntf_params[\"tau_i\"] = 0.003\n",
    "\n",
    "fig, ax = plt.subplots(2, 3,figsize=(10, 6))\n",
    "\n",
    "start = time.time()\n",
    "\n",
    "new_brain.ntf_params[\"gii\"] = 0.5\n",
    "new_brain.ntf_params[\"gei\"] = 0.4\n",
    "et, it = ntf_local_inverselaplace.ntf_local_inverselaplace(new_brain.ntf_params,tt,Q,\"noise\")\n",
    "et2 = np.append(0,et)\n",
    "it2 = np.append(0,it)\n",
    "ax[0][0].plot(tt2,et2,c=excolor,label='Excitatory')\n",
    "ax[0][0].plot(tt2,it2,c=incolor,label='Inhibitory')\n",
    "ax[0][0].set_title('Stable',fontsize=17)\n",
    "\n",
    "end = time.time()\n",
    "\n",
    "print(f\"Runtime of inverse Laplace for one set of parameters with noise is {(end - start)/3600} hours\",flush=True)\n",
    "\n",
    "new_brain.ntf_params[\"gii\"] = 0.5\n",
    "new_brain.ntf_params[\"gei\"] = 0.52\n",
    "et, it = ntf_local_inverselaplace.ntf_local_inverselaplace(new_brain.ntf_params,tt,Q,\"noise\")\n",
    "et2 = np.append(0,et)\n",
    "it2 = np.append(0,it)\n",
    "ax[0][1].plot(tt2,et2,c=excolor,label='Excitatory')\n",
    "ax[0][1].plot(tt2,it2,c=incolor,label='Inhibitory')\n",
    "ax[0][1].set_title('Borderline stable',fontsize=17)\n",
    "\n",
    "new_brain.ntf_params[\"gii\"] = 0.5\n",
    "new_brain.ntf_params[\"gei\"] = 1.0\n",
    "et, it = ntf_local_inverselaplace.ntf_local_inverselaplace(new_brain.ntf_params,tt,Q,\"noise\")\n",
    "et2 = np.append(0,et)\n",
    "it2 = np.append(0,it)\n",
    "ax[0][2].plot(tt2,et2,c=excolor,label='Excitatory')\n",
    "ax[0][2].plot(tt2,it2,c=incolor,label='Inhibitory')\n",
    "ax[0][2].set_title('Unstable',fontsize=17)\n",
    "ax[0][2].legend(fontsize=14)\n",
    "\n",
    "################## Plots for no noise ########################\n",
    "\n",
    "start = time.time()\n",
    "\n",
    "new_brain.ntf_params[\"gii\"] = 0.5\n",
    "new_brain.ntf_params[\"gei\"] = 0.4\n",
    "et, it = ntf_local_inverselaplace.ntf_local_inverselaplace(new_brain.ntf_params,tt,Q,\"no noise\")\n",
    "et2 = np.append(0,et)\n",
    "it2 = np.append(0,it)\n",
    "ax[1][0].plot(tt2,et2,c=excolor,label='Excitatory')\n",
    "ax[1][0].plot(tt2,it2,c=incolor,label='Inhibitory')\n",
    "\n",
    "end = time.time()\n",
    "\n",
    "print(f\"Runtime of inverse Laplace for one set of parameters without noise is {(end - start)/3600} hours\",flush=True)\n",
    "\n",
    "\n",
    "new_brain.ntf_params[\"gii\"] = 0.5\n",
    "new_brain.ntf_params[\"gei\"] = 0.52\n",
    "et, it = ntf_local_inverselaplace.ntf_local_inverselaplace(new_brain.ntf_params,tt,Q,\"no noise\")\n",
    "et2 = np.append(0,et)\n",
    "it2 = np.append(0,it)\n",
    "ax[1][1].plot(tt2,et2,c=excolor,label='Excitatory')\n",
    "ax[1][1].plot(tt2,it2,c=incolor,label='Inhibitory')\n",
    "\n",
    "\n",
    "new_brain.ntf_params[\"gii\"] = 0.5\n",
    "new_brain.ntf_params[\"gei\"] = 1.0\n",
    "et, it = ntf_local_inverselaplace.ntf_local_inverselaplace(new_brain.ntf_params,tt,Q,\"no noise\")\n",
    "et2 = np.append(0,et)\n",
    "it2 = np.append(0,it)\n",
    "ax[1][2].plot(tt2,et2,c=excolor,label='Excitatory')\n",
    "ax[1][2].plot(tt2,it2,c=incolor,label='Inhibitory')\n",
    "\n",
    "fig.add_subplot(111, frameon=False)\n",
    "plt.tick_params(labelcolor=\"none\", bottom=False, left=False)\n",
    "plt.xlabel('Time (s)',fontsize=17)\n",
    "\n",
    "plt.tight_layout()"
   ]
  },
  {
   "cell_type": "code",
   "execution_count": null,
   "metadata": {},
   "outputs": [],
   "source": []
  }
 ],
 "metadata": {
  "interpreter": {
   "hash": "589b9370c6739d9e871a277e3714cdd69e1c5914a3d30017f27d288c0dcced1e"
  },
  "kernelspec": {
   "display_name": "Python 3.9.6 64-bit ('spectrome': conda)",
   "name": "python3"
  },
  "language_info": {
   "codemirror_mode": {
    "name": "ipython",
    "version": 3
   },
   "file_extension": ".py",
   "mimetype": "text/x-python",
   "name": "python",
   "nbconvert_exporter": "python",
   "pygments_lexer": "ipython3",
   "version": "3.9.6"
  }
 },
 "nbformat": 4,
 "nbformat_minor": 4
}
